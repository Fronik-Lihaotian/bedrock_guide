{
 "cells": [
  {
   "cell_type": "markdown",
   "id": "0de9891c-b80c-4a5a-bef7-d51ed7538031",
   "metadata": {},
   "source": [
    "# BedRock user Guide\n",
    "Bedrock is one of the services in AWS, which provides APIs of many LLMs and VLMs. It allows you to easily integrate the LLMs into your local program and contribute your work with the help of large foundation models. This file provides guidance and tutorial of how to use bedrock service. "
   ]
  },
  {
   "cell_type": "markdown",
   "id": "5b74b7ad-e051-41ea-927f-96c3615d3b87",
   "metadata": {},
   "source": [
    "## Choosing the suitable region before going further"
   ]
  },
  {
   "cell_type": "markdown",
   "id": "a30d8cac-4c0e-467f-8fdd-ec1150d461ee",
   "metadata": {},
   "source": [
    "Different regions will have the different access of LLMs, please check if the model you want is avaliable or not in the region you chosen before we go further, everything we do next will based on the region you choose. You can check the model support by regions in bedrock in [**here**](https://docs.aws.amazon.com/bedrock/latest/userguide/models-regions.html). You can simply check and change the region on the top right of aws console. \n",
    "\n",
    "![jupyter](./pics/regions.png)"
   ]
  },
  {
   "cell_type": "markdown",
   "id": "eb397faf-4e92-49ec-ba23-d95f0a500e6c",
   "metadata": {},
   "source": [
    "## Having a role for the bedrock"
   ]
  },
  {
   "cell_type": "markdown",
   "id": "291d0a76-509a-4e65-a612-c247aced398d",
   "metadata": {},
   "source": [
    "Before having accesss of bedrock service, you should have the permissions of bedrock service in your IAM users. **If you do have a IAM user with the access of bedrock, then you can just simply skip this part.** If your don't have IAM user, you should create one for the convenience, since we need to create the access key later (do not recommend to use root user to access bedrock). You can just simply type IAM in the AWS console page to find the IAM service. You can find the user page in the IAM service, which will looks like this.\n",
    "\n",
    "![jupyter](./pics/IAM_user_page.png)\n",
    "\n",
    "And following the steps to create a user for the bedrock:\n",
    "\n",
    "![jupyter](./pics/IAM_user_create.png)\n",
    "\n",
    "Then create a group and give the bedrock permissions to the group:\n",
    "\n",
    "![jupyter](./pics/IAM_group_create.png)\n",
    "![jupyter](./pics/IAM_group_create2.png)\n",
    "\n",
    "Then add the user to the group:\n",
    "\n",
    "![jupyter](./pics/IAM_add_user.png)\n",
    "\n",
    "Create the user:\n",
    "\n",
    "![jupyter](./pics/IAM_user_create2.png)\n",
    "\n",
    "Please note that the permissions are added in the group, you will not have the permission if you are not in the group.\n",
    "\n",
    "Then we create the access key for the user:\n",
    "\n",
    "![jupyter](./pics/IAM_user_access_key.png)\n",
    "![jupyter](./pics/IAM_user_access_key2.png)\n",
    "![jupyter](./pics/IAM_user_access_key3.png)\n",
    "![jupyter](./pics/IAM_user_access_key4.png)\n",
    "![jupyter](./pics/IAM_user_access_key5.png)\n",
    "\n",
    "Please note I highly recommend you to **Download .csv file** and keep it in the safe place, cause you only have one time to copy this access key. If you fail to save or remember it, you may have to recreate new one."
   ]
  },
  {
   "cell_type": "markdown",
   "id": "01b407c7-d06d-4dcf-a01e-63560ef64ad2",
   "metadata": {
    "jp-MarkdownHeadingCollapsed": true
   },
   "source": [
    "## AWS configuration based on AWS CLI"
   ]
  },
  {
   "cell_type": "markdown",
   "id": "9e3df7f4-9991-4298-bcdf-f5f7acba2632",
   "metadata": {},
   "source": [
    "You need AWS Command Line Interface (AWS CLI) for connect LLMs API on your devices, you can check [here](https://docs.aws.amazon.com/cli/latest/userguide/getting-started-install.html) to learn how to install AWS CLI on your devices. After AWS CLI installed, you still need AWS SDK for Python (Boto3) to use bedrock, please check [here](https://boto3.amazonaws.com/v1/documentation/api/latest/index.html) to learn how to install boto3 and config the user on the configuration part of boto3 documentation. One thing you may need to know is the `aws_access_key_id` and `aws_secret_access_key` here will be the access key of the user, should be in the CSV file if you downloaded it. "
   ]
  },
  {
   "cell_type": "markdown",
   "id": "616eb7cc-f6f0-45fd-8293-72e050102701",
   "metadata": {},
   "source": [
    "## Model access"
   ]
  },
  {
   "cell_type": "markdown",
   "id": "1b1289fe-46db-4852-90d8-e5280f4aac9b",
   "metadata": {},
   "source": [
    "Before you can use the API of foundation models, you need to have the model access first. You can simply find the model access page in the bedrock service, which is shown below:\n",
    "\n",
    "![jupyter](./pics/bedrock_model_access.png)\n",
    "\n",
    "After entring the model access page, you will see the availble models you can use. The image below shows the page of model access, if the access status is `Available to request`, it means you can request the access of this model (on the top of the page to request). If the access status is `Access granted`, it means you already have the access of the API of this specific model, no need to request. And If the access status is `Unavailable`, it means you are not allowed to have access of this model.\n",
    "\n",
    "![jupyter](./pics/bedrock_avaliable_access.png)\n",
    "\n",
    "The model is unavailable typically because your regions doesn't support that model, you may change the region to have the access of the model.\n"
   ]
  },
  {
   "cell_type": "markdown",
   "id": "8274bd81-38f6-4f97-9d05-56d399620226",
   "metadata": {},
   "source": [
    "## API get"
   ]
  },
  {
   "cell_type": "markdown",
   "id": "d4d1772d-3305-4feb-8da2-01e59f0e3b6f",
   "metadata": {},
   "source": [
    "After the model status of target foundation model change to `Access granted`, then you are able to use the API of that model, you can find the model API by open the overview or provider page of the bedrock and click the target model. In here, I'll try to get the API of Sonnet v2 provided by Anthropic.\n",
    "\n",
    "![jupyter](./pics/get_API.png)\n"
   ]
  },
  {
   "cell_type": "markdown",
   "id": "9f635ba0-b809-435b-b844-7d19448a9d23",
   "metadata": {},
   "source": [
    "## Using API"
   ]
  },
  {
   "cell_type": "markdown",
   "id": "e456973b-1d7a-4910-9efc-33ac2dabc205",
   "metadata": {},
   "source": [
    "Now you can use foundation model API on your own devices. Different model will have different API formate, please check the document of the model you want to use, here, I'll show you an example of how to use Claude 3.5 Sonnet v2. "
   ]
  },
  {
   "cell_type": "code",
   "execution_count": 4,
   "id": "28731158-db76-4526-8d6d-2c06c91226e5",
   "metadata": {},
   "outputs": [],
   "source": [
    "import boto3\n",
    "import json\n",
    "import base64"
   ]
  },
  {
   "cell_type": "markdown",
   "id": "e5b06d10-5c67-4491-89e3-164f40e1d1dd",
   "metadata": {},
   "source": [
    "Sonnet is a Vison-Language Model, so we need to import based64 to process the images."
   ]
  },
  {
   "cell_type": "code",
   "execution_count": 5,
   "id": "20b3a509-ea25-4643-836b-81d8d489c3fe",
   "metadata": {},
   "outputs": [],
   "source": [
    "bedrock_runtime = boto3.client('bedrock-runtime', region_name='us-east-1')"
   ]
  },
  {
   "cell_type": "markdown",
   "id": "cb83be79-917d-4e77-8f57-e40a2fd58740",
   "metadata": {},
   "source": [
    "Please note the `region_name` should be the region you applied for the model access, in here, I use region `'us-ease-1'`."
   ]
  },
  {
   "cell_type": "code",
   "execution_count": 6,
   "id": "5e6816af-eb92-494d-9580-5a4a17119863",
   "metadata": {},
   "outputs": [],
   "source": [
    "prompt = \"tag this image with only nouns\""
   ]
  },
  {
   "cell_type": "code",
   "execution_count": 7,
   "id": "960de434-f7db-4a8e-936b-fc07b5c0bf9c",
   "metadata": {},
   "outputs": [],
   "source": [
    "with open(\"image_0002.jpg\", \"rb\") as image_file:\n",
    "    binary_data = image_file.read()\n",
    "    base_64_encoded_data = base64.b64encode(binary_data)\n",
    "    base64_string = base_64_encoded_data.decode('utf-8')"
   ]
  },
  {
   "cell_type": "markdown",
   "id": "e39acb41-93ec-414e-a97b-492808072ff9",
   "metadata": {},
   "source": [
    "Set the prompt and load the image."
   ]
  },
  {
   "cell_type": "code",
   "execution_count": 8,
   "id": "df57241f-30ca-4a8a-90d9-23b1178ec851",
   "metadata": {},
   "outputs": [],
   "source": [
    "kwargs = {\n",
    "    \"modelId\": \"anthropic.claude-3-5-sonnet-20240620-v1:0\",\n",
    "    \"contentType\": \"application/json\",\n",
    "    \"accept\": \"application/json\",\n",
    "    \"body\": json.dumps({\n",
    "        \"anthropic_version\": \"bedrock-2023-05-31\",\n",
    "        \"max_tokens\": 1000,\n",
    "        \"messages\": [\n",
    "            {\n",
    "                \"role\": \"user\",\n",
    "                \"content\": [\n",
    "                    {\n",
    "                        \"type\": \"image\",\n",
    "                        \"source\": {\n",
    "                            \"type\": \"base64\",\n",
    "                            \"media_type\": \"image/jpeg\",\n",
    "                            \"data\": base64_string\n",
    "                        }\n",
    "                    },\n",
    "                    {\n",
    "                        \"type\": \"text\",\n",
    "                        \"text\": prompt\n",
    "                    }\n",
    "                ]\n",
    "            }\n",
    "        ]\n",
    "    })\n",
    "}"
   ]
  },
  {
   "cell_type": "markdown",
   "id": "be9db470-f541-4f4e-8c58-d763edc18359",
   "metadata": {},
   "source": [
    "Paste the API code here as the value of `kwargs`, but there **two things** need to be noted, first, it's better you convey your inputs as the form of json, second, please remember to change the values of `data` and `text` to your inputs."
   ]
  },
  {
   "cell_type": "code",
   "execution_count": 9,
   "id": "b5165df0-1e52-4bd1-9921-53f95cf376fc",
   "metadata": {},
   "outputs": [],
   "source": [
    "response = bedrock_runtime.invoke_model(**kwargs)\n",
    "body = json.loads(response['body'].read())"
   ]
  },
  {
   "cell_type": "markdown",
   "id": "9704f9bd-0662-42fb-be8d-5e6dc2ba1b9f",
   "metadata": {},
   "source": [
    "Using `invoke_model` to get the response of the model. Loading the results from response."
   ]
  },
  {
   "cell_type": "code",
   "execution_count": 11,
   "id": "c6627a61-07ff-4824-a14a-77dab3721007",
   "metadata": {},
   "outputs": [
    {
     "data": {
      "text/plain": [
       "{'id': 'msg_bdrk_014Jrd5zr7pvEDwdcQ2T7URK',\n",
       " 'type': 'message',\n",
       " 'role': 'assistant',\n",
       " 'model': 'claude-3-5-sonnet-20240620',\n",
       " 'content': [{'type': 'text',\n",
       "   'text': 'Aircraft\\nPlane\\nPropeller\\nSky\\nSmoke'}],\n",
       " 'stop_reason': 'end_turn',\n",
       " 'stop_sequence': None,\n",
       " 'usage': {'input_tokens': 123, 'output_tokens': 16}}"
      ]
     },
     "execution_count": 11,
     "metadata": {},
     "output_type": "execute_result"
    }
   ],
   "source": [
    "body"
   ]
  },
  {
   "cell_type": "markdown",
   "id": "702be898-7303-497f-80b6-fc3f19a582f4",
   "metadata": {},
   "source": [
    "Response form"
   ]
  },
  {
   "cell_type": "code",
   "execution_count": 12,
   "id": "a04e4d97-e101-464e-81b4-fa6cc009f9bf",
   "metadata": {},
   "outputs": [
    {
     "data": {
      "text/plain": [
       "'Aircraft\\nPlane\\nPropeller\\nSky\\nSmoke'"
      ]
     },
     "execution_count": 12,
     "metadata": {},
     "output_type": "execute_result"
    }
   ],
   "source": [
    "body['content'][0].get('text')"
   ]
  },
  {
   "cell_type": "markdown",
   "id": "a6823bff-9c91-4d74-8634-99c375419955",
   "metadata": {},
   "source": [
    "get text response only"
   ]
  },
  {
   "cell_type": "markdown",
   "id": "0bc68a61-5729-4506-b904-c277e3bf3081",
   "metadata": {},
   "source": [
    "## Batch Inference"
   ]
  },
  {
   "cell_type": "markdown",
   "id": "586bbce5-8771-4c4a-8645-7c1f5572cdda",
   "metadata": {},
   "source": [
    "TBD"
   ]
  },
  {
   "cell_type": "markdown",
   "id": "4ab073f0-2f85-4835-bc32-aa04a8bc0e3e",
   "metadata": {},
   "source": [
    "## Resource"
   ]
  },
  {
   "cell_type": "markdown",
   "id": "961d11d2-bb39-4cb3-bc2b-33faa5f9a337",
   "metadata": {},
   "source": [
    "This tutorial is based on [this video](https://www.youtube.com/watch?v=ab1mbj0acDo), you can see more related bedrock tutorial in that channel."
   ]
  },
  {
   "cell_type": "code",
   "execution_count": null,
   "id": "d4ba78f3-f353-4630-9955-60bd1b60ec60",
   "metadata": {},
   "outputs": [],
   "source": []
  }
 ],
 "metadata": {
  "kernelspec": {
   "display_name": "Python 3 (ipykernel)",
   "language": "python",
   "name": "python3"
  },
  "language_info": {
   "codemirror_mode": {
    "name": "ipython",
    "version": 3
   },
   "file_extension": ".py",
   "mimetype": "text/x-python",
   "name": "python",
   "nbconvert_exporter": "python",
   "pygments_lexer": "ipython3",
   "version": "3.10.15"
  }
 },
 "nbformat": 4,
 "nbformat_minor": 5
}
